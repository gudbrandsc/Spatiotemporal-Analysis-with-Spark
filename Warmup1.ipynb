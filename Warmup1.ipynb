{
 "cells": [
  {
   "cell_type": "code",
   "execution_count": 2,
   "metadata": {},
   "outputs": [
    {
     "name": "stdout",
     "output_type": "stream",
     "text": [
      "StructType(List(StructField(Timestamp,LongType,true),StructField(Geohash,StringType,true),StructField(geopotential_height_lltw,FloatType,true),StructField(water_equiv_of_accum_snow_depth_surface,FloatType,true),StructField(drag_coefficient_surface,FloatType,true),StructField(sensible_heat_net_flux_surface,FloatType,true),StructField(categorical_ice_pellets_yes1_no0_surface,FloatType,true),StructField(visibility_surface,FloatType,true),StructField(number_of_soil_layers_in_root_zone_surface,FloatType,true),StructField(categorical_freezing_rain_yes1_no0_surface,FloatType,true),StructField(pressure_reduced_to_msl_msl,FloatType,true),StructField(upward_short_wave_rad_flux_surface,FloatType,true),StructField(relative_humidity_zerodegc_isotherm,FloatType,true),StructField(categorical_snow_yes1_no0_surface,FloatType,true),StructField(u-component_of_wind_tropopause,FloatType,true),StructField(surface_wind_gust_surface,FloatType,true),StructField(total_cloud_cover_entire_atmosphere,FloatType,true),StructField(upward_long_wave_rad_flux_surface,FloatType,true),StructField(land_cover_land1_sea0_surface,FloatType,true),StructField(vegitation_type_as_in_sib_surface,FloatType,true),StructField(v-component_of_wind_pblri,FloatType,true),StructField(albedo_surface,FloatType,true),StructField(lightning_surface,FloatType,true),StructField(ice_cover_ice1_no_ice0_surface,FloatType,true),StructField(convective_inhibition_surface,FloatType,true),StructField(pressure_surface,FloatType,true),StructField(transpiration_stress-onset_soil_moisture_surface,FloatType,true),StructField(soil_porosity_surface,FloatType,true),StructField(vegetation_surface,FloatType,true),StructField(categorical_rain_yes1_no0_surface,FloatType,true),StructField(downward_long_wave_rad_flux_surface,FloatType,true),StructField(planetary_boundary_layer_height_surface,FloatType,true),StructField(soil_type_as_in_zobler_surface,FloatType,true),StructField(geopotential_height_cloud_base,FloatType,true),StructField(friction_velocity_surface,FloatType,true),StructField(maximumcomposite_radar_reflectivity_entire_atmosphere,FloatType,true),StructField(plant_canopy_surface_water_surface,FloatType,true),StructField(v-component_of_wind_maximum_wind,FloatType,true),StructField(geopotential_height_zerodegc_isotherm,FloatType,true),StructField(mean_sea_level_pressure_nam_model_reduction_msl,FloatType,true),StructField(temperature_surface,FloatType,true),StructField(snow_cover_surface,FloatType,true),StructField(geopotential_height_surface,FloatType,true),StructField(convective_available_potential_energy_surface,FloatType,true),StructField(latent_heat_net_flux_surface,FloatType,true),StructField(surface_roughness_surface,FloatType,true),StructField(pressure_maximum_wind,FloatType,true),StructField(temperature_tropopause,FloatType,true),StructField(geopotential_height_pblri,FloatType,true),StructField(pressure_tropopause,FloatType,true),StructField(snow_depth_surface,FloatType,true),StructField(v-component_of_wind_tropopause,FloatType,true),StructField(downward_short_wave_rad_flux_surface,FloatType,true),StructField(u-component_of_wind_maximum_wind,FloatType,true),StructField(wilting_point_surface,FloatType,true),StructField(precipitable_water_entire_atmosphere,FloatType,true),StructField(u-component_of_wind_pblri,FloatType,true),StructField(direct_evaporation_cease_soil_moisture_surface,FloatType,true)))\n"
     ]
    }
   ],
   "source": [
    "from pyspark.sql.types import StructType, StructField, FloatType, LongType, StringType\n",
    "\n",
    "feats = []\n",
    "f = open('features.txt')\n",
    "for line_num, line in enumerate(f):\n",
    "    if line_num == 0:\n",
    "        # Timestamp\n",
    "        feats.append(StructField(line.strip(), LongType(), True))\n",
    "    elif line_num == 1:\n",
    "        # Geohash\n",
    "        feats.append(StructField(line.strip(), StringType(), True))\n",
    "    else:\n",
    "        # Other features\n",
    "        feats.append(StructField(line.strip(), FloatType(), True))\n",
    "    \n",
    "schema = StructType(feats)\n",
    "\n",
    "print(schema)"
   ]
  },
  {
   "cell_type": "code",
   "execution_count": 3,
   "metadata": {},
   "outputs": [],
   "source": [
    "df = spark.read.format('csv').option('sep', '\\t').schema(schema).load('hdfs://orion11:25000/nam_tiny_copy.tdv')"
   ]
  },
  {
   "cell_type": "code",
   "execution_count": 4,
   "metadata": {},
   "outputs": [
    {
     "name": "stdout",
     "output_type": "stream",
     "text": [
      "[Row(min(friction_velocity_surface)=0.02586597390472889)]\n",
      "[Row(max(friction_velocity_surface)=0.8758659958839417)]\n",
      "[Row(avg(friction_velocity_surface)=0.3311159858293831)]\n",
      "CPU times: user 5.23 ms, sys: 6.04 ms, total: 11.3 ms\n",
      "Wall time: 12.5 s\n"
     ]
    }
   ],
   "source": [
    "%%time\n",
    "# warmup1\n",
    "# Creating an SQL 'table'\n",
    "df.createOrReplaceTempView(\"TEMP_DF\")\n",
    "\n",
    "# Let's get all the friction velocity surface values:\n",
    "friction_velocity_surface_min = spark.sql(\"SELECT MIN(friction_velocity_surface) FROM TEMP_DF\").collect()\n",
    "friction_velocity_surface_max = spark.sql(\"SELECT MAX(friction_velocity_surface) FROM TEMP_DF\").collect()\n",
    "friction_velocity_surface_avg = spark.sql(\"SELECT AVG(friction_velocity_surface) FROM TEMP_DF\").collect()\n",
    "\n",
    "print(friction_velocity_surface_min)\n",
    "print(friction_velocity_surface_max)\n",
    "print(friction_velocity_surface_avg)"
   ]
  },
  {
   "cell_type": "code",
   "execution_count": 5,
   "metadata": {},
   "outputs": [
    {
     "name": "stdout",
     "output_type": "stream",
     "text": [
      "[Row(temperature_surface=306.4980163574219, (CAST(Timestamp AS DOUBLE) / CAST(1000 AS DOUBLE))=1426377600.0, Geohash='9qd23ynghrrz')]\n",
      "CPU times: user 7.87 ms, sys: 3.37 ms, total: 11.2 ms\n",
      "Wall time: 1min 35s\n"
     ]
    }
   ],
   "source": [
    "%%time\n",
    "# warmup2\n",
    "maxtemp = spark.sql(\"SELECT temperature_surface, Timestamp/1000, Geohash FROM TEMP_DF where temperature_surface in (SELECT MAX(temperature_surface) FROM TEMP_DF)\").collect()\n",
    "print(maxtemp)"
   ]
  },
  {
   "cell_type": "code",
   "execution_count": 5,
   "metadata": {},
   "outputs": [
    {
     "name": "stdout",
     "output_type": "stream",
     "text": [
      "[Row(Geohash='f2w29r4werxb'), Row(Geohash='fccz22w4fytb'), Row(Geohash='c1nuq5290jup'), Row(Geohash='f2d5v1jeyp7z'), Row(Geohash='c6s64488ws80'), Row(Geohash='f2fh6jpdgv5b')]\n",
      "CPU times: user 7.01 ms, sys: 3.23 ms, total: 10.2 ms\n",
      "Wall time: 3.96 s\n"
     ]
    }
   ],
   "source": [
    "%%time\n",
    "# warmup 3\n",
    "snowysurface = spark.sql(\"Select Geohash from TEMP_DF where Geohash not in (Select distinct(Geohash) from TEMP_DF where categorical_snow_yes1_no0_surface = 0)\").collect()\n",
    "print(snowysurface)"
   ]
  },
  {
   "cell_type": "code",
   "execution_count": 12,
   "metadata": {},
   "outputs": [
    {
     "ename": "NameError",
     "evalue": "name 'geohash' is not defined",
     "output_type": "error",
     "traceback": [
      "\u001b[0;31m---------------------------------------------------------------------------\u001b[0m",
      "\u001b[0;31mNameError\u001b[0m                                 Traceback (most recent call last)",
      "\u001b[0;32m<timed exec>\u001b[0m in \u001b[0;36m<module>\u001b[0;34m()\u001b[0m\n",
      "\u001b[0;31mNameError\u001b[0m: name 'geohash' is not defined"
     ]
    }
   ],
   "source": [
    "%%time\n",
    "# isolated snowy peak\n",
    "snow_covered_locations = df[df.categorical_snow_yes1_no0_surface == 1].collect()\n",
    "\n",
    "for row in snow_covered_locations:\n",
    "    is_snowy = False\n",
    "\n",
    "    neighbors = geohash.neighbors(row.Geohash)\n",
    "\n",
    "    for s in neighbors:\n",
    "        print(\"neighbor \" + s)\n",
    "        count = spark.sql(f\"select count(*) as cc from nam_tiny where Geohash = '{s}'\\\n",
    "                      and categorical_snow_yes1_no0_surface = 0 group by Geohash having count(*) > 0\").collect()\n",
    "        if(len(count) > 0):\n",
    "            issnowy = True\n",
    "            break\n",
    "    \n",
    "    if (is_snowy == False):\n",
    "        print(\"strangely snowy place found\")\n",
    "        print(\"cold place \" + row.Geohash)"
   ]
  },
  {
   "cell_type": "code",
   "execution_count": 11,
   "metadata": {},
   "outputs": [
    {
     "name": "stdout",
     "output_type": "stream",
     "text": [
      "CPU times: user 4.89 ms, sys: 3.38 ms, total: 8.28 ms\n",
      "Wall time: 3.76 s\n"
     ]
    }
   ],
   "source": [
    "%%time\n",
    "# Travel Startup\n",
    "relative_humidity_zerodegc_isotherm = 45\n",
    "min_surface_wind_gust_surface = 1.67\n",
    "max_surface_wind_gust_surface = 3.1\n",
    "temperature_surface = 77\n",
    "total_cloud_cover_entire_atmosphere = 60 \n",
    "# Grand canyon 9qrhf6btbt3jevhn\n",
    "# Panhandle san francisco 9q8yvs4t\n",
    "# New york dr5regw2z6y\n",
    "# Fresno 9qd23ynghrrz\n",
    "\n",
    "traveldata = spark.sql(\"SELECT  substring(Geohash, 0, 5) as region, MONTH(FROM_UNIXTIME(Timestamp/1000)) as month, AVG(temperature_surface) as temperature, AVG(relative_humidity_zerodegc_isotherm) as humdity, AVG(surface_wind_gust_surface) as windspeed, AVG(total_cloud_cover_entire_atmosphere) as cloudcover FROM TEMP_DF WHERE Geohash like '9qd23%' or Geohash like 'dr5re%' or Geohash like '9q8yv%' or Geohash like '9qrhf%'  group by MONTH(FROM_UNIXTIME(Timestamp/1000)), substring(Geohash, 0, 5)\").collect()\n",
    "for row in traveldata:\n",
    "    isgood = True\n",
    "    if(row.temperature < (temperature_surface - (temperature_surface * .1)) or  row.temperature > (temperature_surface + (temperature_surface * .1))):\n",
    "        isgood = False\n",
    "    if(row.humdity < (relative_humidity_zerodegc_isotherm - (relative_humidity_zerodegc_isotherm * .1)) or  row.humdity > (relative_humidity_zerodegc_isotherm + (relative_humidity_zerodegc_isotherm * .1))):\n",
    "        isgood = False\n",
    "    if(row.windspeed < min_surface_wind_gust_surface or  row.windspeed > max_surface_wind_gust_surface):\n",
    "        isgood = False\n",
    "    if(row.cloudcover < (total_cloud_cover_entire_atmosphere - (total_cloud_cover_entire_atmosphere * .1)) or  row.cloudcover > (total_cloud_cover_entire_atmosphere + (total_cloud_cover_entire_atmosphere * .1))):\n",
    "        isgood = False\n",
    "    if(isgood == True):\n",
    "        print(f\"{row.region} {row.month}\")\n",
    "        "
   ]
  },
  {
   "cell_type": "code",
   "execution_count": 9,
   "metadata": {},
   "outputs": [
    {
     "name": "stdout",
     "output_type": "stream",
     "text": [
      "+--------------------+-----+\n",
      "|            features|label|\n",
      "+--------------------+-----+\n",
      "|[3975.03125,424.9...|  0.0|\n",
      "|[-3088.21875,234....|  0.0|\n",
      "|[2515.78125,430.9...|  0.0|\n",
      "|[136.53125,314.05...|  0.0|\n",
      "|[2437.03125,427.0...|  0.0|\n",
      "|[3206.28125,445.9...|  0.0|\n",
      "|[4.28125,303.1810...|  0.0|\n",
      "|[3474.53125,422.3...|  0.0|\n",
      "|[3126.03125,402.8...|  0.0|\n",
      "|[3939.78125,445.3...|  0.0|\n",
      "|[2788.28125,391.9...|  0.0|\n",
      "|[-472.96875,291.5...|  0.0|\n",
      "|[3284.53125,445.0...|  0.0|\n",
      "|[2062.28125,377.4...|  0.0|\n",
      "|[2318.03125,405.3...|  0.0|\n",
      "|[3072.03125,344.6...|  0.0|\n",
      "|[315.28125,315.68...|  0.0|\n",
      "|[3568.28125,438.8...|  0.0|\n",
      "|[3369.28125,448.3...|  0.0|\n",
      "|[2902.53125,332.3...|  0.0|\n",
      "+--------------------+-----+\n",
      "only showing top 20 rows\n",
      "\n",
      "CPU times: user 12.9 ms, sys: 2.22 ms, total: 15.2 ms\n",
      "Wall time: 266 ms\n"
     ]
    }
   ],
   "source": [
    "%%time\n",
    "# Machine learning\n",
    "from pyspark.ml.feature import VectorAssembler\n",
    "\n",
    "def prepare_data(dframe, predictors, target):\n",
    "    assembler = VectorAssembler(inputCols=predictors, outputCol=\"features\")\n",
    "    output = assembler.transform(dframe)\n",
    "    return output.select(\"features\", target).withColumnRenamed(target, \"label\")\n",
    "\n",
    "\n",
    "prepped = prepare_data(df,\n",
    "    [\"geopotential_height_lltw\", \n",
    "     \"upward_long_wave_rad_flux_surface\", \n",
    "     \"albedo_surface\", \n",
    "     \"downward_long_wave_rad_flux_surface\",\n",
    "     \"plant_canopy_surface_water_surface\",\n",
    "     \"geopotential_height_zerodegc_isotherm\",\n",
    "     \"temperature_surface\",\n",
    "     \"snow_depth_surface\"\n",
    "    ],\n",
    "    \"snow_cover_surface\")\n",
    "\n",
    "prepped.show()\n",
    "(trainingData, testData) = prepped.randomSplit([0.9, 0.1])"
   ]
  },
  {
   "cell_type": "code",
   "execution_count": 10,
   "metadata": {},
   "outputs": [
    {
     "name": "stdout",
     "output_type": "stream",
     "text": [
      "Root Mean Squared Error (RMSE) on test data = 0.0995346\n"
     ]
    }
   ],
   "source": [
    "from pyspark.ml.regression import RandomForestRegressor\n",
    "from pyspark.ml.evaluation import RegressionEvaluator\n",
    "\n",
    "rf = RandomForestRegressor(numTrees=100, maxDepth=5, maxBins=32)\n",
    "model = rf.fit(trainingData)\n",
    "predictions = model.transform(testData)\n",
    "\n",
    "evaluator = RegressionEvaluator(\n",
    "    labelCol=\"label\", predictionCol=\"prediction\", metricName=\"rmse\")\n",
    "rmse = evaluator.evaluate(predictions)\n",
    "print(\"Root Mean Squared Error (RMSE) on test data = %g\" % rmse)"
   ]
  },
  {
   "cell_type": "code",
   "execution_count": 14,
   "metadata": {},
   "outputs": [
    {
     "data": {
      "image/png": "[encoded data removed]",
      "text/plain": [
       "<Figure size 432x288 with 1 Axes>"
      ]
     },
     "metadata": {},
     "output_type": "display_data"
    }
   ],
   "source": [
    "%matplotlib inline\n",
    "\n",
    "import matplotlib.pyplot as plt\n",
    "\n",
    "p_df = predictions.select(\"label\", \"prediction\").toPandas()\n",
    "\n",
    "plt.suptitle('Random Forest Regressor', fontsize=16)\n",
    "\n",
    "minval = p_df[['label', 'prediction']].min().min()\n",
    "maxval = p_df[['label', 'prediction']].max().max()\n",
    "plt.axis([minval, maxval, minval, maxval])\n",
    "\n",
    "plt.plot(p_df['label'], p_df['prediction'], '.', color='#2ba5f1')\n",
    "plt.plot(range(int(minval), int(maxval)), range(int(minval), int(maxval)), lw=3, dashes=(10, 3), color='#000000', alpha=0.25, label='Ideal Predictor')\n",
    "plt.show()"
   ]
  },
  {
   "cell_type": "code",
   "execution_count": null,
   "metadata": {},
   "outputs": [],
   "source": []
  }
 ],
 "metadata": {
  "kernelspec": {
   "display_name": "Python 3",
   "language": "python",
   "name": "python3"
  },
  "language_info": {
   "codemirror_mode": {
    "name": "ipython",
    "version": 3
   },
   "file_extension": ".py",
   "mimetype": "text/x-python",
   "name": "python",
   "nbconvert_exporter": "python",
   "pygments_lexer": "ipython3",
   "version": "3.6.5"
  }
 },
 "nbformat": 4,
 "nbformat_minor": 2
}
